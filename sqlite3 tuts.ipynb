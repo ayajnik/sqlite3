{
 "cells": [
  {
   "cell_type": "code",
   "execution_count": 1,
   "metadata": {
    "collapsed": true
   },
   "outputs": [],
   "source": [
    "import sqlite3"
   ]
  },
  {
   "cell_type": "code",
   "execution_count": 2,
   "metadata": {
    "collapsed": false
   },
   "outputs": [
    {
     "name": "stdout",
     "output_type": "stream",
     "text": [
      "Database Created.\n",
      "\n",
      "\n",
      "Cursor created.\n",
      "\n",
      "\n",
      "Table created.\n",
      "\n",
      "\n"
     ]
    }
   ],
   "source": [
    "database = sqlite3.connect('mydb_new.db')\n",
    "print('Database Created.')\n",
    "print('\\n')\n",
    "cur = database.cursor()\n",
    "print('Cursor created.')\n",
    "print('\\n')\n",
    "cur.execute(\"CREATE TABLE IF NOT EXISTS new(ID PRIMARY KEY NOT NULL,first_name TEXT NOT NULL,last_name TEXT NOT NULL,emp_id INTEGER NOT NULL,email VARCHAR(15))\")\n",
    "print('Table created.')\n",
    "print('\\n')\n"
   ]
  },
  {
   "cell_type": "code",
   "execution_count": 5,
   "metadata": {
    "collapsed": false
   },
   "outputs": [
    {
     "name": "stdout",
     "output_type": "stream",
     "text": [
      "Tables in this database are: \n",
      "\n",
      "\n",
      "<sqlite3.Cursor object at 0x00000000048D3EA0>\n",
      "\n",
      "\n"
     ]
    },
    {
     "data": {
      "text/plain": [
       "[(u'new',)]"
      ]
     },
     "execution_count": 5,
     "metadata": {},
     "output_type": "execute_result"
    }
   ],
   "source": [
    "##displaying the table name\n",
    "a = cur.execute(\"SELECT name FROM sqlite_master WHERE type = 'table';\")\n",
    "print('Tables in this database are: ')\n",
    "print('\\n')\n",
    "print(a)\n",
    "print('\\n')\n",
    "cur.execute(\"SELECT name FROM sqlite_master WHERE type = 'table';\")\n",
    "cur.fetchall()"
   ]
  },
  {
   "cell_type": "code",
   "execution_count": 6,
   "metadata": {
    "collapsed": true
   },
   "outputs": [],
   "source": [
    "cur.execute(\"SELECT * FROM new;\")\n",
    "row = cur.fetchall()\n",
    "for rows in row:\n",
    "    print(row)\n"
   ]
  },
  {
   "cell_type": "code",
   "execution_count": 7,
   "metadata": {
    "collapsed": true
   },
   "outputs": [],
   "source": [
    "cur.execute(\"INSERT INTO new VALUES(1,'ayush','yajnik',123456789,'ayajnik@stevens.edu')\")\n",
    "database.commit()"
   ]
  },
  {
   "cell_type": "code",
   "execution_count": 8,
   "metadata": {
    "collapsed": false
   },
   "outputs": [
    {
     "name": "stdout",
     "output_type": "stream",
     "text": [
      "[(1, u'ayush', u'yajnik', 123456789, u'ayajnik@stevens.edu')]\n"
     ]
    }
   ],
   "source": [
    "##now printing all the results\n",
    "cur.execute(\"SELECT * FROM new;\")\n",
    "row = cur.fetchall()\n",
    "for rows in row:\n",
    "    print(row)"
   ]
  },
  {
   "cell_type": "code",
   "execution_count": 14,
   "metadata": {
    "collapsed": true
   },
   "outputs": [],
   "source": [
    "entities = ('2','yadvi','maheshwari',2345678,'ymaheshw@nyit.edu')"
   ]
  },
  {
   "cell_type": "code",
   "execution_count": 15,
   "metadata": {
    "collapsed": false
   },
   "outputs": [],
   "source": [
    "cur.execute(\"INSERT INTO new VALUES(?,?,?,?,?)\",entities)\n",
    "database.commit()"
   ]
  },
  {
   "cell_type": "code",
   "execution_count": 16,
   "metadata": {
    "collapsed": false
   },
   "outputs": [
    {
     "name": "stdout",
     "output_type": "stream",
     "text": [
      "(u'2', u'yadvi', u'maheshwari', 2345678, u'ymaheshw@nyit.edu')\n"
     ]
    }
   ],
   "source": [
    "cur.execute(\"SELECT * FROM new WHERE ID = '2'\")\n",
    "new_row = cur.fetchall()\n",
    "for new in new_row:\n",
    "    print(new)"
   ]
  },
  {
   "cell_type": "code",
   "execution_count": 18,
   "metadata": {
    "collapsed": false
   },
   "outputs": [
    {
     "name": "stdout",
     "output_type": "stream",
     "text": [
      "(1, u'ayush', u'yajnik', 123456789, u'ayajnik@stevens.edu')\n",
      "(2, u'yadvi', u'maheshwari', 2345678, u'ymaheshw@nyit.edu')\n",
      "(u'2', u'yadvi', u'maheshwari', 2345678, u'ymaheshw@nyit.edu')\n"
     ]
    }
   ],
   "source": [
    "cur.execute(\"SELECT * FROM new;\")\n",
    "b = cur.fetchall()\n",
    "for _ in b:\n",
    "    print(_)"
   ]
  },
  {
   "cell_type": "code",
   "execution_count": 21,
   "metadata": {
    "collapsed": false
   },
   "outputs": [],
   "source": [
    "cur.execute(\"CREATE TABLE IF NOT EXISTS cereals(RATING INT NOT NULL, NAME VARCHAR(15), MANUF TEXT NOT NULL, TYPE TEXT NOT NULL, CALORIES INTEGER NOT NULL, PROTEIN INTEGER NOT NULL, FAT INTEGER NOT NULL, SODIUM INTEGER NOT NULL, FIBER INTEGER NOT NULL, CARBO INTEGER NOT NULL, SUGARS INTEGER NOT NULL, POTASS INTEGER NOT NULL, VITAMINS INTEGER NOT NULL, SHELF INTEGER NOT NULL, WEIGHT INTEGER NOT NULL, CUPS INTEGER NOT NULL)\")\n",
    "database.commit()"
   ]
  },
  {
   "cell_type": "code",
   "execution_count": 22,
   "metadata": {
    "collapsed": false
   },
   "outputs": [
    {
     "data": {
      "text/plain": [
       "[(u'new',), (u'cereals',)]"
      ]
     },
     "execution_count": 22,
     "metadata": {},
     "output_type": "execute_result"
    }
   ],
   "source": [
    "cur.execute(\"SELECT name FROM sqlite_master WHERE type = 'table';\")\n",
    "cur.fetchall()"
   ]
  },
  {
   "cell_type": "code",
   "execution_count": 23,
   "metadata": {
    "collapsed": false
   },
   "outputs": [
    {
     "name": "stdout",
     "output_type": "stream",
     "text": [
      "[('RATING', 'NAME', 'MANUF', 'TYPE', 'CALORIES', 'PROTEIN', 'FAT', 'SODIUM', 'FIBER', 'CARBO', 'SUGARS', 'POTASS', 'VITAMINS', 'SHELF', 'WEIGHT', 'CUPS'), ('68.402973', '100%_Bran                             ', 'N  ', 'C   ', '70', '4', '1', '130', '10', '5', '6', '280', '25', '3', '1', '0.33'), ('33.983679', '100%_Natural_Bran                     ', 'Q  ', 'C   ', '120', '3', '5', '15', '2', '8', '8', '135', '0', '3', '1', '1'), ('59.425505', 'All-Bran                              ', 'K  ', 'C   ', '70', '4', '1', '260', '9', '7', '5', '320', '25', '3', '1', '0.33'), ('93.704912', 'All-Bran_with_Extra_Fiber             ', 'K  ', 'C   ', '50', '4', '0', '140', '14', '8', '0', '330', '25', '3', '1', '0.5'), ('34.384843', 'Almond_Delight                        ', 'R  ', 'C   ', '110', '2', '2', '200', '1', '14', '8', '-1', '25', '3', '1', '0.75'), ('29.509541', 'Apple_Cinnamon_Cheerios               ', 'G  ', 'C   ', '110', '2', '2', '180', '1.5', '10.5', '10', '70', '25', '1', '1', '0.75'), ('33.174094', 'Apple_Jacks                           ', 'K  ', 'C   ', '110', '2', '0', '125', '1', '11', '14', '30', '25', '2', '1', '1'), ('37.038562', 'Basic_4                               ', 'G  ', 'C   ', '130', '3', '2', '210', '2', '18', '8', '100', '25', '3', '1.33', '0.75'), ('49.120253', 'Bran_Chex                             ', 'R  ', 'C   ', '90', '2', '1', '200', '4', '15', '6', '125', '25', '1', '1', '0.67'), ('53.313813', 'Bran_Flakes                           ', 'P  ', 'C   ', '90', '3', '0', '210', '5', '13', '5', '190', '25', '3', '1', '0.67'), ('18.042851', \"Cap'n'Crunch                          \", 'Q  ', 'C   ', '120', '1', '2', '220', '0', '12', '12', '35', '25', '2', '1', '0.75'), ('50.764999', 'Cheerios                              ', 'G  ', 'C   ', '110', '6', '2', '290', '2', '17', '1', '105', '25', '1', '1', '1.25'), ('19.823573', 'Cinnamon_Toast_Crunch                 ', 'G  ', 'C   ', '120', '1', '3', '210', '0', '13', '9', '45', '25', '2', '1', '0.75'), ('40.400208', 'Clusters                              ', 'G  ', 'C   ', '110', '3', '2', '140', '2', '13', '7', '105', '25', '3', '1', '0.5'), ('22.736446', 'Cocoa_Puffs                           ', 'G  ', 'C   ', '110', '1', '1', '180', '0', '12', '13', '55', '25', '2', '1', '1'), ('41.445019', 'Corn_Chex                             ', 'R  ', 'C   ', '110', '2', '0', '280', '0', '22', '3', '25', '25', '1', '1', '1'), ('45.863324', 'Corn_Flakes                           ', 'K  ', 'C   ', '100', '2', '0', '290', '1', '21', '2', '35', '25', '1', '1', '1'), ('35.782791', 'Corn_Pops                             ', 'K  ', 'C   ', '110', '1', '0', '90', '1', '13', '12', '20', '25', '2', '1', '1'), ('22.396513', 'Count_Chocula                         ', 'G  ', 'C   ', '110', '1', '1', '180', '0', '12', '13', '65', '25', '2', '1', '1'), ('40.448772', \"Cracklin'_Oat_Bran                    \", 'K  ', 'C   ', '110', '3', '3', '140', '4', '10', '7', '160', '25', '3', '1', '0.5'), ('64.533816', 'Cream_of_Wheat_(Quick)                ', 'N  ', 'H   ', '100', '3', '0', '80', '1', '21', '0', '-1', '0', '2', '1', '1'), ('46.895644', 'Crispix                               ', 'K  ', 'C   ', '110', '2', '0', '220', '1', '21', '3', '30', '25', '3', '1', '1'), ('36.176196', 'Crispy_Wheat_&_Raisins                ', 'G  ', 'C   ', '100', '2', '1', '140', '2', '11', '10', '120', '25', '3', '1', '0.75'), ('44.330856', 'Double_Chex                           ', 'R  ', 'C   ', '100', '2', '0', '190', '1', '18', '5', '80', '25', '3', '1', '0.75'), ('32.207582', 'Froot_Loops                           ', 'K  ', 'C   ', '110', '2', '1', '125', '1', '11', '13', '30', '25', '2', '1', '1'), ('31.435973', 'Frosted_Flakes                        ', 'K  ', 'C   ', '110', '1', '0', '200', '1', '14', '11', '25', '25', '1', '1', '0.75'), ('58.345141', 'Frosted_Mini-Wheats                   ', 'K  ', 'C   ', '100', '3', '0', '0', '3', '14', '7', '100', '25', '2', '1', '0.8'), ('40.917047', 'Fruit_&_Fibre_Dates,_Walnuts,_and_Oats', 'P  ', 'C   ', '120', '3', '2', '160', '5', '12', '10', '200', '25', '3', '1.25', '0.67'), ('41.015492', 'Fruitful_Bran                         ', 'K  ', 'C   ', '120', '3', '0', '240', '5', '14', '12', '190', '25', '3', '1.33', '0.67'), ('28.025765', 'Fruity_Pebbles                        ', 'P  ', 'C   ', '110', '1', '1', '135', '0', '13', '12', '25', '25', '2', '1', '0.75'), ('35.252444', 'Golden_Crisp                          ', 'P  ', 'C   ', '100', '2', '0', '45', '0', '11', '15', '40', '25', '1', '1', '0.88'), ('23.804043', 'Golden_Grahams                        ', 'G  ', 'C   ', '110', '1', '1', '280', '0', '15', '9', '45', '25', '2', '1', '0.75'), ('52.076897', 'Grape_Nuts_Flakes                     ', 'P  ', 'C   ', '100', '3', '1', '140', '3', '15', '5', '85', '25', '3', '1', '0.88'), ('53.371007', 'Grape-Nuts                            ', 'P  ', 'C   ', '110', '3', '0', '170', '3', '17', '3', '90', '25', '3', '1', '0.25'), ('45.811716', 'Great_Grains_Pecan                    ', 'P  ', 'C   ', '120', '3', '3', '75', '3', '13', '4', '100', '25', '3', '1', '0.33'), ('21.871292', 'Honey_Graham_Ohs                      ', 'Q  ', 'C   ', '120', '1', '2', '220', '1', '12', '11', '45', '25', '2', '1', '1'), ('31.072217', 'Honey_Nut_Cheerios                    ', 'G  ', 'C   ', '110', '3', '1', '250', '1.5', '11.5', '10', '90', '25', '1', '1', '0.75'), ('28.742414', 'Honey-comb                            ', 'P  ', 'C   ', '110', '1', '0', '180', '0', '14', '11', '35', '25', '1', '1', '1.33'), ('36.523683', 'Just_Right_Crunchy__Nuggets           ', 'K  ', 'C   ', '110', '2', '1', '170', '1', '17', '6', '60', '100', '3', '1', '1'), ('36.471512', 'Just_Right_Fruit_&_Nut                ', 'K  ', 'C   ', '140', '3', '1', '170', '2', '20', '9', '95', '100', '3', '1.3', '0.75'), ('39.241114', 'Kix                                   ', 'G  ', 'C   ', '110', '2', '1', '260', '0', '21', '3', '40', '25', '2', '1', '1.5'), ('45.328074', 'Life                                  ', 'Q  ', 'C   ', '100', '4', '2', '150', '2', '12', '6', '95', '25', '2', '1', '0.67'), ('26.734515', 'Lucky_Charms                          ', 'G  ', 'C   ', '110', '2', '1', '180', '0', '12', '12', '55', '25', '2', '1', '1'), ('54.850917', 'Maypo                                 ', 'A  ', 'H   ', '100', '4', '1', '0', '0', '16', '3', '95', '25', '2', '1', '1'), ('37.136863', 'Muesli_Raisins,_Dates,_&_Almonds      ', 'R  ', 'C   ', '150', '4', '3', '95', '3', '16', '11', '170', '25', '3', '1', '1'), ('34.139765', 'Muesli_Raisins,_Peaches,_&_Pecans     ', 'R  ', 'C   ', '150', '4', '3', '150', '3', '16', '11', '170', '25', '3', '1', '1'), ('30.313351', 'Mueslix_Crispy_Blend                  ', 'K  ', 'C   ', '160', '3', '2', '150', '3', '17', '13', '160', '25', '3', '1.5', '0.67'), ('40.105965', 'Multi-Grain_Cheerios                  ', 'G  ', 'C   ', '100', '2', '1', '220', '2', '15', '6', '90', '25', '1', '1', '1'), ('29.924285', 'Nut&Honey_Crunch                      ', 'K  ', 'C   ', '120', '2', '1', '190', '0', '15', '9', '40', '25', '2', '1', '0.67'), ('40.69232', 'Nutri-Grain_Almond-Raisin             ', 'K  ', 'C   ', '140', '3', '2', '220', '3', '21', '7', '130', '25', '3', '1.33', '0.67'), ('59.642837', 'Nutri-grain_Wheat                     ', 'K  ', 'C   ', '90', '3', '0', '170', '3', '18', '2', '90', '25', '3', '1', '1'), ('30.450843', 'Oatmeal_Raisin_Crisp                  ', 'G  ', 'C   ', '130', '3', '2', '170', '1.5', '13.5', '10', '120', '25', '3', '1.25', '0.5'), ('37.840594', 'Post_Nat._Raisin_Bran                 ', 'P  ', 'C   ', '120', '3', '1', '200', '6', '11', '14', '260', '25', '3', '1.33', '0.67'), ('41.50354', 'Product_19                            ', 'K  ', 'C   ', '100', '3', '0', '320', '1', '20', '3', '45', '100', '3', '1', '1'), ('60.756112', 'Puffed_Rice                           ', 'Q  ', 'C   ', '50', '1', '0', '0', '0', '13', '0', '15', '0', '3', '0.5', '1'), ('63.005645', 'Puffed_Wheat                          ', 'Q  ', 'C   ', '50', '2', '0', '0', '1', '10', '0', '50', '0', '3', '0.5', '1'), ('49.511874', 'Quaker_Oat_Squares                    ', 'Q  ', 'C   ', '100', '4', '1', '135', '2', '14', '6', '110', '25', '3', '1', '0.5'), ('50.828392', 'Quaker_Oatmeal                        ', 'Q  ', 'H   ', '100', '5', '2', '0', '2.7', '-1', '-1', '110', '0', '1', '1', '0.67'), ('39.259197', 'Raisin_Bran                           ', 'K  ', 'C   ', '120', '3', '1', '210', '5', '14', '12', '240', '25', '2', '1.33', '0.75'), ('39.7034', 'Raisin_Nut_Bran                       ', 'G  ', 'C   ', '100', '3', '2', '140', '2.5', '10.5', '8', '140', '25', '3', '1', '0.5'), ('55.333142', 'Raisin_Squares                        ', 'K  ', 'C   ', '90', '2', '0', '0', '2', '15', '6', '110', '25', '3', '1', '0.5'), ('41.998933', 'Rice_Chex                             ', 'R  ', 'C   ', '110', '1', '0', '240', '0', '23', '2', '30', '25', '1', '1', '1.13'), ('40.560159', 'Rice_Krispies                         ', 'K  ', 'C   ', '110', '2', '0', '290', '0', '22', '3', '35', '25', '1', '1', '1'), ('68.235885', 'Shredded_Wheat                        ', 'N  ', 'C   ', '80', '2', '0', '0', '3', '16', '0', '95', '0', '1', '0.83', '1'), ('74.472949', \"Shredded_Wheat_'n'Bran                \", 'N  ', 'C   ', '90', '3', '0', '0', '4', '19', '0', '140', '0', '1', '1', '0.67'), ('72.801787', 'Shredded_Wheat_spoon_size             ', 'N  ', 'C   ', '90', '3', '0', '0', '3', '20', '0', '120', '0', '1', '1', '0.67'), ('31.230054', 'Smacks                                ', 'K  ', 'C   ', '110', '2', '1', '70', '1', '9', '15', '40', '25', '2', '1', '0.75'), ('53.131324', 'Special_K                             ', 'K  ', 'C   ', '110', '6', '0', '230', '1', '16', '3', '55', '25', '1', '1', '1'), ('59.363993', 'Strawberry_Fruit_Wheats               ', 'N  ', 'C   ', '90', '2', '0', '15', '3', '15', '5', '90', '25', '2', '1', '1'), ('38.839746', 'Total_Corn_Flakes                     ', 'G  ', 'C   ', '110', '2', '1', '200', '0', '21', '3', '35', '100', '3', '1', '1'), ('28.592785', 'Total_Raisin_Bran                     ', 'G  ', 'C   ', '140', '3', '1', '190', '4', '15', '14', '230', '100', '3', '1.5', '1'), ('46.658844', 'Total_Whole_Grain                     ', 'G  ', 'C   ', '100', '3', '1', '200', '3', '16', '3', '110', '100', '3', '1', '1'), ('39.106174', 'Triples                               ', 'G  ', 'C   ', '110', '2', '1', '250', '0', '21', '3', '60', '25', '3', '1', '0.75'), ('27.753301', 'Trix                                  ', 'G  ', 'C   ', '110', '1', '1', '140', '0', '13', '12', '25', '25', '2', '1', '1'), ('49.787445', 'Wheat_Chex                            ', 'R  ', 'C   ', '100', '3', '1', '230', '3', '17', '3', '115', '25', '1', '1', '0.67'), ('51.592193', 'Wheaties                              ', 'G  ', 'C   ', '100', '3', '1', '200', '3', '17', '3', '110', '25', '1', '1', '1'), ('36.187559', 'Wheaties_Honey_Gold                   ', 'G  ', 'C   ', '110', '2', '1', '200', '1', '16', '8', '60', '25', '1', '1', '0.75')]\n"
     ]
    }
   ],
   "source": [
    "import csv\n",
    "\n",
    "def fitem(item):\n",
    "    item=item.strip()\n",
    "    try:\n",
    "        item=float(item)\n",
    "    except ValueError:\n",
    "        pass\n",
    "    return item\n",
    "\n",
    "with open('cereals.csv') as f:\n",
    "    data=[tuple(line) for line in csv.reader(f)]\n",
    "    \n",
    "print(data)"
   ]
  },
  {
   "cell_type": "markdown",
   "metadata": {},
   "source": [
    "# importing a csv file into a database"
   ]
  },
  {
   "cell_type": "code",
   "execution_count": 31,
   "metadata": {
    "collapsed": true
   },
   "outputs": [],
   "source": [
    "import csv \n",
    "import sys\n",
    "import pandas as pd"
   ]
  },
  {
   "cell_type": "code",
   "execution_count": 32,
   "metadata": {
    "collapsed": true
   },
   "outputs": [],
   "source": [
    "df = pd.read_csv('cereals.csv',error_bad_lines = False)"
   ]
  },
  {
   "cell_type": "code",
   "execution_count": 33,
   "metadata": {
    "collapsed": false
   },
   "outputs": [
    {
     "data": {
      "text/html": [
       "<div>\n",
       "<style scoped>\n",
       "    .dataframe tbody tr th:only-of-type {\n",
       "        vertical-align: middle;\n",
       "    }\n",
       "\n",
       "    .dataframe tbody tr th {\n",
       "        vertical-align: top;\n",
       "    }\n",
       "\n",
       "    .dataframe thead th {\n",
       "        text-align: right;\n",
       "    }\n",
       "</style>\n",
       "<table border=\"1\" class=\"dataframe\">\n",
       "  <thead>\n",
       "    <tr style=\"text-align: right;\">\n",
       "      <th></th>\n",
       "      <th>RATING</th>\n",
       "      <th>NAME</th>\n",
       "      <th>MANUF</th>\n",
       "      <th>TYPE</th>\n",
       "      <th>CALORIES</th>\n",
       "      <th>PROTEIN</th>\n",
       "      <th>FAT</th>\n",
       "      <th>SODIUM</th>\n",
       "      <th>FIBER</th>\n",
       "      <th>CARBO</th>\n",
       "      <th>SUGARS</th>\n",
       "      <th>POTASS</th>\n",
       "      <th>VITAMINS</th>\n",
       "      <th>SHELF</th>\n",
       "      <th>WEIGHT</th>\n",
       "      <th>CUPS</th>\n",
       "    </tr>\n",
       "  </thead>\n",
       "  <tbody>\n",
       "    <tr>\n",
       "      <th>0</th>\n",
       "      <td>68.402973</td>\n",
       "      <td>100%_Bran</td>\n",
       "      <td>N</td>\n",
       "      <td>C</td>\n",
       "      <td>70</td>\n",
       "      <td>4</td>\n",
       "      <td>1</td>\n",
       "      <td>130</td>\n",
       "      <td>10.0</td>\n",
       "      <td>5.0</td>\n",
       "      <td>6</td>\n",
       "      <td>280</td>\n",
       "      <td>25</td>\n",
       "      <td>3</td>\n",
       "      <td>1.0</td>\n",
       "      <td>0.33</td>\n",
       "    </tr>\n",
       "    <tr>\n",
       "      <th>1</th>\n",
       "      <td>33.983679</td>\n",
       "      <td>100%_Natural_Bran</td>\n",
       "      <td>Q</td>\n",
       "      <td>C</td>\n",
       "      <td>120</td>\n",
       "      <td>3</td>\n",
       "      <td>5</td>\n",
       "      <td>15</td>\n",
       "      <td>2.0</td>\n",
       "      <td>8.0</td>\n",
       "      <td>8</td>\n",
       "      <td>135</td>\n",
       "      <td>0</td>\n",
       "      <td>3</td>\n",
       "      <td>1.0</td>\n",
       "      <td>1.00</td>\n",
       "    </tr>\n",
       "    <tr>\n",
       "      <th>2</th>\n",
       "      <td>59.425505</td>\n",
       "      <td>All-Bran</td>\n",
       "      <td>K</td>\n",
       "      <td>C</td>\n",
       "      <td>70</td>\n",
       "      <td>4</td>\n",
       "      <td>1</td>\n",
       "      <td>260</td>\n",
       "      <td>9.0</td>\n",
       "      <td>7.0</td>\n",
       "      <td>5</td>\n",
       "      <td>320</td>\n",
       "      <td>25</td>\n",
       "      <td>3</td>\n",
       "      <td>1.0</td>\n",
       "      <td>0.33</td>\n",
       "    </tr>\n",
       "    <tr>\n",
       "      <th>3</th>\n",
       "      <td>93.704912</td>\n",
       "      <td>All-Bran_with_Extra_Fiber</td>\n",
       "      <td>K</td>\n",
       "      <td>C</td>\n",
       "      <td>50</td>\n",
       "      <td>4</td>\n",
       "      <td>0</td>\n",
       "      <td>140</td>\n",
       "      <td>14.0</td>\n",
       "      <td>8.0</td>\n",
       "      <td>0</td>\n",
       "      <td>330</td>\n",
       "      <td>25</td>\n",
       "      <td>3</td>\n",
       "      <td>1.0</td>\n",
       "      <td>0.50</td>\n",
       "    </tr>\n",
       "    <tr>\n",
       "      <th>4</th>\n",
       "      <td>34.384843</td>\n",
       "      <td>Almond_Delight</td>\n",
       "      <td>R</td>\n",
       "      <td>C</td>\n",
       "      <td>110</td>\n",
       "      <td>2</td>\n",
       "      <td>2</td>\n",
       "      <td>200</td>\n",
       "      <td>1.0</td>\n",
       "      <td>14.0</td>\n",
       "      <td>8</td>\n",
       "      <td>-1</td>\n",
       "      <td>25</td>\n",
       "      <td>3</td>\n",
       "      <td>1.0</td>\n",
       "      <td>0.75</td>\n",
       "    </tr>\n",
       "  </tbody>\n",
       "</table>\n",
       "</div>"
      ],
      "text/plain": [
       "      RATING                                    NAME MANUF  TYPE  CALORIES  \\\n",
       "0  68.402973  100%_Bran                                N    C           70   \n",
       "1  33.983679  100%_Natural_Bran                        Q    C          120   \n",
       "2  59.425505  All-Bran                                 K    C           70   \n",
       "3  93.704912  All-Bran_with_Extra_Fiber                K    C           50   \n",
       "4  34.384843  Almond_Delight                           R    C          110   \n",
       "\n",
       "   PROTEIN  FAT  SODIUM  FIBER  CARBO  SUGARS  POTASS  VITAMINS  SHELF  \\\n",
       "0        4    1     130   10.0    5.0       6     280        25      3   \n",
       "1        3    5      15    2.0    8.0       8     135         0      3   \n",
       "2        4    1     260    9.0    7.0       5     320        25      3   \n",
       "3        4    0     140   14.0    8.0       0     330        25      3   \n",
       "4        2    2     200    1.0   14.0       8      -1        25      3   \n",
       "\n",
       "   WEIGHT  CUPS  \n",
       "0     1.0  0.33  \n",
       "1     1.0  1.00  \n",
       "2     1.0  0.33  \n",
       "3     1.0  0.50  \n",
       "4     1.0  0.75  "
      ]
     },
     "execution_count": 33,
     "metadata": {},
     "output_type": "execute_result"
    }
   ],
   "source": [
    "df.head(5)"
   ]
  },
  {
   "cell_type": "code",
   "execution_count": 34,
   "metadata": {
    "collapsed": true
   },
   "outputs": [],
   "source": [
    "df.to_sql(\n",
    "    name = 'cereals',\n",
    "    con = database,\n",
    "    index = False,\n",
    "    if_exists = 'append'\n",
    ")"
   ]
  },
  {
   "cell_type": "code",
   "execution_count": 35,
   "metadata": {
    "collapsed": false
   },
   "outputs": [
    {
     "name": "stdout",
     "output_type": "stream",
     "text": [
      "(68.402973, u'100%_Bran                             ', u'N  ', u'C   ', 70, 4, 1, 130, 10, 5, 6, 280, 25, 3, 1, 0.33)\n",
      "(33.983678999999995, u'100%_Natural_Bran                     ', u'Q  ', u'C   ', 120, 3, 5, 15, 2, 8, 8, 135, 0, 3, 1, 1)\n",
      "(59.425505, u'All-Bran                              ', u'K  ', u'C   ', 70, 4, 1, 260, 9, 7, 5, 320, 25, 3, 1, 0.33)\n",
      "(93.704912, u'All-Bran_with_Extra_Fiber             ', u'K  ', u'C   ', 50, 4, 0, 140, 14, 8, 0, 330, 25, 3, 1, 0.5)\n",
      "(34.384843, u'Almond_Delight                        ', u'R  ', u'C   ', 110, 2, 2, 200, 1, 14, 8, -1, 25, 3, 1, 0.75)\n",
      "(29.509541, u'Apple_Cinnamon_Cheerios               ', u'G  ', u'C   ', 110, 2, 2, 180, 1.5, 10.5, 10, 70, 25, 1, 1, 0.75)\n",
      "(33.174094000000004, u'Apple_Jacks                           ', u'K  ', u'C   ', 110, 2, 0, 125, 1, 11, 14, 30, 25, 2, 1, 1)\n",
      "(37.038562, u'Basic_4                               ', u'G  ', u'C   ', 130, 3, 2, 210, 2, 18, 8, 100, 25, 3, 1.33, 0.75)\n",
      "(49.120253000000005, u'Bran_Chex                             ', u'R  ', u'C   ', 90, 2, 1, 200, 4, 15, 6, 125, 25, 1, 1, 0.67)\n",
      "(53.313813, u'Bran_Flakes                           ', u'P  ', u'C   ', 90, 3, 0, 210, 5, 13, 5, 190, 25, 3, 1, 0.67)\n",
      "(18.042851000000002, u\"Cap'n'Crunch                          \", u'Q  ', u'C   ', 120, 1, 2, 220, 0, 12, 12, 35, 25, 2, 1, 0.75)\n",
      "(50.764998999999996, u'Cheerios                              ', u'G  ', u'C   ', 110, 6, 2, 290, 2, 17, 1, 105, 25, 1, 1, 1.25)\n",
      "(19.823573, u'Cinnamon_Toast_Crunch                 ', u'G  ', u'C   ', 120, 1, 3, 210, 0, 13, 9, 45, 25, 2, 1, 0.75)\n",
      "(40.400208, u'Clusters                              ', u'G  ', u'C   ', 110, 3, 2, 140, 2, 13, 7, 105, 25, 3, 1, 0.5)\n",
      "(22.736446, u'Cocoa_Puffs                           ', u'G  ', u'C   ', 110, 1, 1, 180, 0, 12, 13, 55, 25, 2, 1, 1)\n",
      "(41.445019, u'Corn_Chex                             ', u'R  ', u'C   ', 110, 2, 0, 280, 0, 22, 3, 25, 25, 1, 1, 1)\n",
      "(45.863324, u'Corn_Flakes                           ', u'K  ', u'C   ', 100, 2, 0, 290, 1, 21, 2, 35, 25, 1, 1, 1)\n",
      "(35.782790999999996, u'Corn_Pops                             ', u'K  ', u'C   ', 110, 1, 0, 90, 1, 13, 12, 20, 25, 2, 1, 1)\n",
      "(22.396513, u'Count_Chocula                         ', u'G  ', u'C   ', 110, 1, 1, 180, 0, 12, 13, 65, 25, 2, 1, 1)\n",
      "(40.448772, u\"Cracklin'_Oat_Bran                    \", u'K  ', u'C   ', 110, 3, 3, 140, 4, 10, 7, 160, 25, 3, 1, 0.5)\n",
      "(64.533816, u'Cream_of_Wheat_(Quick)                ', u'N  ', u'H   ', 100, 3, 0, 80, 1, 21, 0, -1, 0, 2, 1, 1)\n",
      "(46.895644, u'Crispix                               ', u'K  ', u'C   ', 110, 2, 0, 220, 1, 21, 3, 30, 25, 3, 1, 1)\n",
      "(36.176196000000004, u'Crispy_Wheat_&_Raisins                ', u'G  ', u'C   ', 100, 2, 1, 140, 2, 11, 10, 120, 25, 3, 1, 0.75)\n",
      "(44.330856, u'Double_Chex                           ', u'R  ', u'C   ', 100, 2, 0, 190, 1, 18, 5, 80, 25, 3, 1, 0.75)\n",
      "(32.207582, u'Froot_Loops                           ', u'K  ', u'C   ', 110, 2, 1, 125, 1, 11, 13, 30, 25, 2, 1, 1)\n",
      "(31.435972999999997, u'Frosted_Flakes                        ', u'K  ', u'C   ', 110, 1, 0, 200, 1, 14, 11, 25, 25, 1, 1, 0.75)\n",
      "(58.345141000000005, u'Frosted_Mini-Wheats                   ', u'K  ', u'C   ', 100, 3, 0, 0, 3, 14, 7, 100, 25, 2, 1, 0.8)\n",
      "(40.917047, u'Fruit_&_Fibre_Dates,_Walnuts,_and_Oats', u'P  ', u'C   ', 120, 3, 2, 160, 5, 12, 10, 200, 25, 3, 1.25, 0.67)\n",
      "(41.015492, u'Fruitful_Bran                         ', u'K  ', u'C   ', 120, 3, 0, 240, 5, 14, 12, 190, 25, 3, 1.33, 0.67)\n",
      "(28.025765000000003, u'Fruity_Pebbles                        ', u'P  ', u'C   ', 110, 1, 1, 135, 0, 13, 12, 25, 25, 2, 1, 0.75)\n",
      "(35.252444, u'Golden_Crisp                          ', u'P  ', u'C   ', 100, 2, 0, 45, 0, 11, 15, 40, 25, 1, 1, 0.88)\n",
      "(23.804043, u'Golden_Grahams                        ', u'G  ', u'C   ', 110, 1, 1, 280, 0, 15, 9, 45, 25, 2, 1, 0.75)\n",
      "(52.076896999999995, u'Grape_Nuts_Flakes                     ', u'P  ', u'C   ', 100, 3, 1, 140, 3, 15, 5, 85, 25, 3, 1, 0.88)\n",
      "(53.37100699999999, u'Grape-Nuts                            ', u'P  ', u'C   ', 110, 3, 0, 170, 3, 17, 3, 90, 25, 3, 1, 0.25)\n",
      "(45.811716, u'Great_Grains_Pecan                    ', u'P  ', u'C   ', 120, 3, 3, 75, 3, 13, 4, 100, 25, 3, 1, 0.33)\n",
      "(21.871292, u'Honey_Graham_Ohs                      ', u'Q  ', u'C   ', 120, 1, 2, 220, 1, 12, 11, 45, 25, 2, 1, 1)\n",
      "(31.072217, u'Honey_Nut_Cheerios                    ', u'G  ', u'C   ', 110, 3, 1, 250, 1.5, 11.5, 10, 90, 25, 1, 1, 0.75)\n",
      "(28.742414, u'Honey-comb                            ', u'P  ', u'C   ', 110, 1, 0, 180, 0, 14, 11, 35, 25, 1, 1, 1.33)\n",
      "(36.523683, u'Just_Right_Crunchy__Nuggets           ', u'K  ', u'C   ', 110, 2, 1, 170, 1, 17, 6, 60, 100, 3, 1, 1)\n",
      "(36.471512, u'Just_Right_Fruit_&_Nut                ', u'K  ', u'C   ', 140, 3, 1, 170, 2, 20, 9, 95, 100, 3, 1.3, 0.75)\n",
      "(39.241114, u'Kix                                   ', u'G  ', u'C   ', 110, 2, 1, 260, 0, 21, 3, 40, 25, 2, 1, 1.5)\n",
      "(45.328074, u'Life                                  ', u'Q  ', u'C   ', 100, 4, 2, 150, 2, 12, 6, 95, 25, 2, 1, 0.67)\n",
      "(26.734515000000002, u'Lucky_Charms                          ', u'G  ', u'C   ', 110, 2, 1, 180, 0, 12, 12, 55, 25, 2, 1, 1)\n",
      "(54.850917, u'Maypo                                 ', u'A  ', u'H   ', 100, 4, 1, 0, 0, 16, 3, 95, 25, 2, 1, 1)\n",
      "(37.136863, u'Muesli_Raisins,_Dates,_&_Almonds      ', u'R  ', u'C   ', 150, 4, 3, 95, 3, 16, 11, 170, 25, 3, 1, 1)\n",
      "(34.139765000000004, u'Muesli_Raisins,_Peaches,_&_Pecans     ', u'R  ', u'C   ', 150, 4, 3, 150, 3, 16, 11, 170, 25, 3, 1, 1)\n",
      "(30.313351, u'Mueslix_Crispy_Blend                  ', u'K  ', u'C   ', 160, 3, 2, 150, 3, 17, 13, 160, 25, 3, 1.5, 0.67)\n",
      "(40.105965000000005, u'Multi-Grain_Cheerios                  ', u'G  ', u'C   ', 100, 2, 1, 220, 2, 15, 6, 90, 25, 1, 1, 1)\n",
      "(29.924284999999998, u'Nut&Honey_Crunch                      ', u'K  ', u'C   ', 120, 2, 1, 190, 0, 15, 9, 40, 25, 2, 1, 0.67)\n",
      "(40.69232, u'Nutri-Grain_Almond-Raisin             ', u'K  ', u'C   ', 140, 3, 2, 220, 3, 21, 7, 130, 25, 3, 1.33, 0.67)\n",
      "(59.642837, u'Nutri-grain_Wheat                     ', u'K  ', u'C   ', 90, 3, 0, 170, 3, 18, 2, 90, 25, 3, 1, 1)\n",
      "(30.450843, u'Oatmeal_Raisin_Crisp                  ', u'G  ', u'C   ', 130, 3, 2, 170, 1.5, 13.5, 10, 120, 25, 3, 1.25, 0.5)\n",
      "(37.840594, u'Post_Nat._Raisin_Bran                 ', u'P  ', u'C   ', 120, 3, 1, 200, 6, 11, 14, 260, 25, 3, 1.33, 0.67)\n",
      "(41.50354, u'Product_19                            ', u'K  ', u'C   ', 100, 3, 0, 320, 1, 20, 3, 45, 100, 3, 1, 1)\n",
      "(60.756112, u'Puffed_Rice                           ', u'Q  ', u'C   ', 50, 1, 0, 0, 0, 13, 0, 15, 0, 3, 0.5, 1)\n",
      "(63.005644999999994, u'Puffed_Wheat                          ', u'Q  ', u'C   ', 50, 2, 0, 0, 1, 10, 0, 50, 0, 3, 0.5, 1)\n",
      "(49.511874, u'Quaker_Oat_Squares                    ', u'Q  ', u'C   ', 100, 4, 1, 135, 2, 14, 6, 110, 25, 3, 1, 0.5)\n",
      "(50.828392, u'Quaker_Oatmeal                        ', u'Q  ', u'H   ', 100, 5, 2, 0, 2.7, -1, -1, 110, 0, 1, 1, 0.67)\n",
      "(39.259197, u'Raisin_Bran                           ', u'K  ', u'C   ', 120, 3, 1, 210, 5, 14, 12, 240, 25, 2, 1.33, 0.75)\n",
      "(39.7034, u'Raisin_Nut_Bran                       ', u'G  ', u'C   ', 100, 3, 2, 140, 2.5, 10.5, 8, 140, 25, 3, 1, 0.5)\n",
      "(55.333142, u'Raisin_Squares                        ', u'K  ', u'C   ', 90, 2, 0, 0, 2, 15, 6, 110, 25, 3, 1, 0.5)\n",
      "(41.998933, u'Rice_Chex                             ', u'R  ', u'C   ', 110, 1, 0, 240, 0, 23, 2, 30, 25, 1, 1, 1.13)\n",
      "(40.560159000000006, u'Rice_Krispies                         ', u'K  ', u'C   ', 110, 2, 0, 290, 0, 22, 3, 35, 25, 1, 1, 1)\n",
      "(68.235885, u'Shredded_Wheat                        ', u'N  ', u'C   ', 80, 2, 0, 0, 3, 16, 0, 95, 0, 1, 0.83, 1)\n",
      "(74.472949, u\"Shredded_Wheat_'n'Bran                \", u'N  ', u'C   ', 90, 3, 0, 0, 4, 19, 0, 140, 0, 1, 1, 0.67)\n",
      "(72.801787, u'Shredded_Wheat_spoon_size             ', u'N  ', u'C   ', 90, 3, 0, 0, 3, 20, 0, 120, 0, 1, 1, 0.67)\n",
      "(31.230054, u'Smacks                                ', u'K  ', u'C   ', 110, 2, 1, 70, 1, 9, 15, 40, 25, 2, 1, 0.75)\n",
      "(53.131324, u'Special_K                             ', u'K  ', u'C   ', 110, 6, 0, 230, 1, 16, 3, 55, 25, 1, 1, 1)\n",
      "(59.36399300000001, u'Strawberry_Fruit_Wheats               ', u'N  ', u'C   ', 90, 2, 0, 15, 3, 15, 5, 90, 25, 2, 1, 1)\n",
      "(38.839746000000005, u'Total_Corn_Flakes                     ', u'G  ', u'C   ', 110, 2, 1, 200, 0, 21, 3, 35, 100, 3, 1, 1)\n",
      "(28.592785, u'Total_Raisin_Bran                     ', u'G  ', u'C   ', 140, 3, 1, 190, 4, 15, 14, 230, 100, 3, 1.5, 1)\n",
      "(46.658844, u'Total_Whole_Grain                     ', u'G  ', u'C   ', 100, 3, 1, 200, 3, 16, 3, 110, 100, 3, 1, 1)\n",
      "(39.106173999999996, u'Triples                               ', u'G  ', u'C   ', 110, 2, 1, 250, 0, 21, 3, 60, 25, 3, 1, 0.75)\n",
      "(27.753301, u'Trix                                  ', u'G  ', u'C   ', 110, 1, 1, 140, 0, 13, 12, 25, 25, 2, 1, 1)\n",
      "(49.787445, u'Wheat_Chex                            ', u'R  ', u'C   ', 100, 3, 1, 230, 3, 17, 3, 115, 25, 1, 1, 0.67)\n",
      "(51.592193, u'Wheaties                              ', u'G  ', u'C   ', 100, 3, 1, 200, 3, 17, 3, 110, 25, 1, 1, 1)\n",
      "(36.187559, u'Wheaties_Honey_Gold                   ', u'G  ', u'C   ', 110, 2, 1, 200, 1, 16, 8, 60, 25, 1, 1, 0.75)\n"
     ]
    }
   ],
   "source": [
    "cur.execute(\"SELECT * FROM cereals;\")\n",
    "c = cur.fetchall()\n",
    "for i in c:\n",
    "    print(i)"
   ]
  },
  {
   "cell_type": "code",
   "execution_count": 48,
   "metadata": {
    "collapsed": false
   },
   "outputs": [
    {
     "name": "stdout",
     "output_type": "stream",
     "text": [
      "(93.704912, u'All-Bran_with_Extra_Fiber             ', u'K  ', u'C   ', 50, 4, 0, 140, 14, 8, 0, 330, 25, 3, 1, 0.5)\n",
      "(60.756112, u'Puffed_Rice                           ', u'Q  ', u'C   ', 50, 1, 0, 0, 0, 13, 0, 15, 0, 3, 0.5, 1)\n",
      "(63.005644999999994, u'Puffed_Wheat                          ', u'Q  ', u'C   ', 50, 2, 0, 0, 1, 10, 0, 50, 0, 3, 0.5, 1)\n"
     ]
    }
   ],
   "source": [
    "cur.execute(\"SELECT * FROM cereals WHERE CALORIES < 70;\")\n",
    "d = cur.fetchall()\n",
    "for j in d:\n",
    "    print(j)"
   ]
  },
  {
   "cell_type": "code",
   "execution_count": null,
   "metadata": {
    "collapsed": true
   },
   "outputs": [],
   "source": []
  }
 ],
 "metadata": {
  "kernelspec": {
   "display_name": "Python 2",
   "language": "python",
   "name": "python2"
  },
  "language_info": {
   "codemirror_mode": {
    "name": "ipython",
    "version": 2
   },
   "file_extension": ".py",
   "mimetype": "text/x-python",
   "name": "python",
   "nbconvert_exporter": "python",
   "pygments_lexer": "ipython2",
   "version": "2.7.13"
  }
 },
 "nbformat": 4,
 "nbformat_minor": 2
}
