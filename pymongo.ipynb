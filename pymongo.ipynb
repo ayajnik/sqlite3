{
 "cells": [
  {
   "cell_type": "code",
   "execution_count": 69,
   "metadata": {
    "collapsed": false
   },
   "outputs": [],
   "source": [
    "import pymongo\n",
    "import pandas as pd\n",
    "import matplotlib.pyplot as plt\n",
    "from sshtunnel import SSHTunnelForwarder\n",
    "import pprint\n",
    "import csv\n",
    "import json\n",
    "import os"
   ]
  },
  {
   "cell_type": "code",
   "execution_count": 2,
   "metadata": {
    "collapsed": false
   },
   "outputs": [],
   "source": [
    "df = pd.read_csv('C://Users//ayush//jupyter notebook//usda.csv',error_bad_lines = False)"
   ]
  },
  {
   "cell_type": "code",
   "execution_count": 3,
   "metadata": {
    "collapsed": false
   },
   "outputs": [
    {
     "data": {
      "text/html": [
       "<div>\n",
       "<style scoped>\n",
       "    .dataframe tbody tr th:only-of-type {\n",
       "        vertical-align: middle;\n",
       "    }\n",
       "\n",
       "    .dataframe tbody tr th {\n",
       "        vertical-align: top;\n",
       "    }\n",
       "\n",
       "    .dataframe thead th {\n",
       "        text-align: right;\n",
       "    }\n",
       "</style>\n",
       "<table border=\"1\" class=\"dataframe\">\n",
       "  <thead>\n",
       "    <tr style=\"text-align: right;\">\n",
       "      <th></th>\n",
       "      <th>name</th>\n",
       "      <th>group</th>\n",
       "      <th>protein (g)</th>\n",
       "      <th>calcium (g)</th>\n",
       "      <th>sodium (g)</th>\n",
       "      <th>fiber (g)</th>\n",
       "      <th>vitaminc (g)</th>\n",
       "      <th>potassium (g)</th>\n",
       "      <th>carbohydrate (g)</th>\n",
       "      <th>sugars (g)</th>\n",
       "      <th>fat (g)</th>\n",
       "      <th>water (g)</th>\n",
       "      <th>calories</th>\n",
       "      <th>saturated (g)</th>\n",
       "      <th>monounsat (g)</th>\n",
       "      <th>polyunsat (g)</th>\n",
       "      <th>id</th>\n",
       "    </tr>\n",
       "  </thead>\n",
       "  <tbody>\n",
       "    <tr>\n",
       "      <th>0</th>\n",
       "      <td>Beverage, instant breakfast powder, chocolate,...</td>\n",
       "      <td>Dairy and Egg Products</td>\n",
       "      <td>19.90</td>\n",
       "      <td>0.285</td>\n",
       "      <td>0.385</td>\n",
       "      <td>0.4</td>\n",
       "      <td>0.0769</td>\n",
       "      <td>0.947</td>\n",
       "      <td>66.20</td>\n",
       "      <td>65.80</td>\n",
       "      <td>1.40</td>\n",
       "      <td>7.40</td>\n",
       "      <td>357</td>\n",
       "      <td>0.560</td>\n",
       "      <td>0.314</td>\n",
       "      <td>0.278</td>\n",
       "      <td>27481</td>\n",
       "    </tr>\n",
       "    <tr>\n",
       "      <th>1</th>\n",
       "      <td>Beverage, instant breakfast powder, chocolate,...</td>\n",
       "      <td>Dairy and Egg Products</td>\n",
       "      <td>35.80</td>\n",
       "      <td>0.500</td>\n",
       "      <td>0.717</td>\n",
       "      <td>2.0</td>\n",
       "      <td>0.1380</td>\n",
       "      <td>1.705</td>\n",
       "      <td>41.00</td>\n",
       "      <td>39.00</td>\n",
       "      <td>5.10</td>\n",
       "      <td>7.40</td>\n",
       "      <td>358</td>\n",
       "      <td>2.162</td>\n",
       "      <td>1.189</td>\n",
       "      <td>1.027</td>\n",
       "      <td>27482</td>\n",
       "    </tr>\n",
       "    <tr>\n",
       "      <th>2</th>\n",
       "      <td>Beverage, milkshake mix, dry, not chocolate</td>\n",
       "      <td>Dairy and Egg Products</td>\n",
       "      <td>23.50</td>\n",
       "      <td>0.880</td>\n",
       "      <td>0.780</td>\n",
       "      <td>1.6</td>\n",
       "      <td>0.0012</td>\n",
       "      <td>2.200</td>\n",
       "      <td>52.90</td>\n",
       "      <td>51.30</td>\n",
       "      <td>2.60</td>\n",
       "      <td>12.80</td>\n",
       "      <td>329</td>\n",
       "      <td>2.059</td>\n",
       "      <td>0.332</td>\n",
       "      <td>0.060</td>\n",
       "      <td>27483</td>\n",
       "    </tr>\n",
       "    <tr>\n",
       "      <th>3</th>\n",
       "      <td>Butter oil, anhydrous</td>\n",
       "      <td>Dairy and Egg Products</td>\n",
       "      <td>0.28</td>\n",
       "      <td>0.004</td>\n",
       "      <td>0.002</td>\n",
       "      <td>0.0</td>\n",
       "      <td>0.0000</td>\n",
       "      <td>0.005</td>\n",
       "      <td>0.00</td>\n",
       "      <td>0.00</td>\n",
       "      <td>99.48</td>\n",
       "      <td>0.24</td>\n",
       "      <td>876</td>\n",
       "      <td>61.924</td>\n",
       "      <td>28.732</td>\n",
       "      <td>3.694</td>\n",
       "      <td>27484</td>\n",
       "    </tr>\n",
       "    <tr>\n",
       "      <th>4</th>\n",
       "      <td>Butter, salted</td>\n",
       "      <td>Dairy and Egg Products</td>\n",
       "      <td>0.85</td>\n",
       "      <td>0.024</td>\n",
       "      <td>0.714</td>\n",
       "      <td>0.0</td>\n",
       "      <td>0.0000</td>\n",
       "      <td>0.024</td>\n",
       "      <td>0.06</td>\n",
       "      <td>0.06</td>\n",
       "      <td>81.11</td>\n",
       "      <td>15.87</td>\n",
       "      <td>717</td>\n",
       "      <td>51.368</td>\n",
       "      <td>21.021</td>\n",
       "      <td>3.043</td>\n",
       "      <td>27485</td>\n",
       "    </tr>\n",
       "  </tbody>\n",
       "</table>\n",
       "</div>"
      ],
      "text/plain": [
       "                                                name                   group  \\\n",
       "0  Beverage, instant breakfast powder, chocolate,...  Dairy and Egg Products   \n",
       "1  Beverage, instant breakfast powder, chocolate,...  Dairy and Egg Products   \n",
       "2        Beverage, milkshake mix, dry, not chocolate  Dairy and Egg Products   \n",
       "3                              Butter oil, anhydrous  Dairy and Egg Products   \n",
       "4                                     Butter, salted  Dairy and Egg Products   \n",
       "\n",
       "   protein (g)  calcium (g)  sodium (g)  fiber (g)  vitaminc (g)  \\\n",
       "0        19.90        0.285       0.385        0.4        0.0769   \n",
       "1        35.80        0.500       0.717        2.0        0.1380   \n",
       "2        23.50        0.880       0.780        1.6        0.0012   \n",
       "3         0.28        0.004       0.002        0.0        0.0000   \n",
       "4         0.85        0.024       0.714        0.0        0.0000   \n",
       "\n",
       "   potassium (g)  carbohydrate (g)  sugars (g)  fat (g)  water (g)  calories  \\\n",
       "0          0.947             66.20       65.80     1.40       7.40       357   \n",
       "1          1.705             41.00       39.00     5.10       7.40       358   \n",
       "2          2.200             52.90       51.30     2.60      12.80       329   \n",
       "3          0.005              0.00        0.00    99.48       0.24       876   \n",
       "4          0.024              0.06        0.06    81.11      15.87       717   \n",
       "\n",
       "   saturated (g)  monounsat (g)  polyunsat (g)     id  \n",
       "0          0.560          0.314          0.278  27481  \n",
       "1          2.162          1.189          1.027  27482  \n",
       "2          2.059          0.332          0.060  27483  \n",
       "3         61.924         28.732          3.694  27484  \n",
       "4         51.368         21.021          3.043  27485  "
      ]
     },
     "execution_count": 3,
     "metadata": {},
     "output_type": "execute_result"
    }
   ],
   "source": [
    "df.head()"
   ]
  },
  {
   "cell_type": "code",
   "execution_count": 4,
   "metadata": {
    "collapsed": true
   },
   "outputs": [],
   "source": [
    "##first create a client\n",
    "client = pymongo.MongoClient('localhost', 27017)"
   ]
  },
  {
   "cell_type": "raw",
   "metadata": {},
   "source": [
    "##we can also connect to another server local by the following code\n",
    "MONGO_HOST = \"REMOTE_IP_ADDRESS\"\n",
    "MONGO_DB = \"DATABASE_NAME\"\n",
    "MONGO_USER = \"LOGIN\"\n",
    "MONGO_PASS = \"PASSWORD\"\n",
    "\n",
    "server = SSHTunnelForwarder(\n",
    "    MONGO_HOST,\n",
    "    ssh_username=MONGO_USER,\n",
    "    ssh_password=MONGO_PASS,\n",
    "    remote_bind_address=('127.0.0.1', 27017)\n",
    ")\n",
    "\n",
    "server.start()\n",
    "\n",
    "client = pymongo.MongoClient('127.0.0.1', server.local_bind_port) # server.local_bind_port is assigned local port\n",
    "db = client[MONGO_DB]\n",
    "pprint.pprint(db.collection_names())\n"
   ]
  },
  {
   "cell_type": "code",
   "execution_count": 5,
   "metadata": {
    "collapsed": true
   },
   "outputs": [],
   "source": [
    "##creating a database\n",
    "db = client['mynewdb']"
   ]
  },
  {
   "cell_type": "code",
   "execution_count": 6,
   "metadata": {
    "collapsed": true
   },
   "outputs": [],
   "source": [
    "##creating a collection\n",
    "collection = db['new_collection']"
   ]
  },
  {
   "cell_type": "code",
   "execution_count": 7,
   "metadata": {
    "collapsed": false
   },
   "outputs": [
    {
     "name": "stdout",
     "output_type": "stream",
     "text": [
      "0\n"
     ]
    },
    {
     "name": "stderr",
     "output_type": "stream",
     "text": [
      "C:\\Users\\ayush\\AppData\\Local\\Enthought\\Canopy\\edm\\envs\\User\\lib\\site-packages\\ipykernel_launcher.py:1: DeprecationWarning: count is deprecated. Use estimated_document_count or count_documents instead. Please note that $where must be replaced by $expr, $near must be replaced by $geoWithin with $center, and $nearSphere must be replaced by $geoWithin with $centerSphere\n",
      "  \"\"\"Entry point for launching an IPython kernel.\n"
     ]
    }
   ],
   "source": [
    "a = collection.count()\n",
    "print(a)"
   ]
  },
  {
   "cell_type": "code",
   "execution_count": 17,
   "metadata": {
    "collapsed": false
   },
   "outputs": [
    {
     "name": "stdout",
     "output_type": "stream",
     "text": [
      "[]\n"
     ]
    }
   ],
   "source": [
    "##also checking the total number of collection\n",
    "pprint.pprint(db.list_collection_names())"
   ]
  },
  {
   "cell_type": "code",
   "execution_count": 18,
   "metadata": {
    "collapsed": true
   },
   "outputs": [],
   "source": [
    "collection_1 = db['collectionzz']"
   ]
  },
  {
   "cell_type": "code",
   "execution_count": 19,
   "metadata": {
    "collapsed": false
   },
   "outputs": [
    {
     "name": "stdout",
     "output_type": "stream",
     "text": [
      "[]\n"
     ]
    }
   ],
   "source": [
    "pprint.pprint(db.list_collection_names())"
   ]
  },
  {
   "cell_type": "code",
   "execution_count": 75,
   "metadata": {
    "collapsed": false
   },
   "outputs": [],
   "source": [
    "records_ = df.to_dict(orient = 'records')\n",
    "result = collection.insert_many(records_ )"
   ]
  },
  {
   "cell_type": "code",
   "execution_count": 76,
   "metadata": {
    "collapsed": false
   },
   "outputs": [
    {
     "name": "stderr",
     "output_type": "stream",
     "text": [
      "C:\\Users\\ayush\\AppData\\Local\\Enthought\\Canopy\\edm\\envs\\User\\lib\\site-packages\\ipykernel_launcher.py:1: DeprecationWarning: count is deprecated. Use estimated_document_count or count_documents instead. Please note that $where must be replaced by $expr, $near must be replaced by $geoWithin with $center, and $nearSphere must be replaced by $geoWithin with $centerSphere\n",
      "  \"\"\"Entry point for launching an IPython kernel.\n"
     ]
    },
    {
     "data": {
      "text/plain": [
       "7637"
      ]
     },
     "execution_count": 76,
     "metadata": {},
     "output_type": "execute_result"
    }
   ],
   "source": [
    "collection.count()"
   ]
  },
  {
   "cell_type": "code",
   "execution_count": 77,
   "metadata": {
    "collapsed": true
   },
   "outputs": [],
   "source": [
    "df_new_1 = pd.DataFrame(list(collection.find()))"
   ]
  },
  {
   "cell_type": "code",
   "execution_count": 91,
   "metadata": {
    "collapsed": false
   },
   "outputs": [
    {
     "name": "stdout",
     "output_type": "stream",
     "text": [
      "Sab changa si\n"
     ]
    }
   ],
   "source": [
    "if len(df) != len(df_new_1):\n",
    "    print('Something is wrong')\n",
    "else:\n",
    "    print('Sab changa si')"
   ]
  },
  {
   "cell_type": "code",
   "execution_count": 92,
   "metadata": {
    "collapsed": false
   },
   "outputs": [
    {
     "name": "stdout",
     "output_type": "stream",
     "text": [
      "File not converted to dataframe properly\n",
      "File not converted to dataframe properly\n",
      "File not converted to dataframe properly\n",
      "File not converted to dataframe properly\n",
      "File not converted to dataframe properly\n",
      "File not converted to dataframe properly\n",
      "File not converted to dataframe properly\n",
      "File not converted to dataframe properly\n",
      "File not converted to dataframe properly\n",
      "Sab changa si\n",
      "File not converted to dataframe properly\n",
      "File not converted to dataframe properly\n",
      "File not converted to dataframe properly\n",
      "File not converted to dataframe properly\n",
      "File not converted to dataframe properly\n",
      "File not converted to dataframe properly\n",
      "File not converted to dataframe properly\n",
      "File not converted to dataframe properly\n",
      "File not converted to dataframe properly\n",
      "File not converted to dataframe properly\n",
      "File not converted to dataframe properly\n",
      "File not converted to dataframe properly\n",
      "File not converted to dataframe properly\n",
      "File not converted to dataframe properly\n",
      "Sab changa si\n",
      "File not converted to dataframe properly\n",
      "File not converted to dataframe properly\n",
      "File not converted to dataframe properly\n",
      "File not converted to dataframe properly\n",
      "File not converted to dataframe properly\n",
      "File not converted to dataframe properly\n",
      "File not converted to dataframe properly\n",
      "File not converted to dataframe properly\n",
      "File not converted to dataframe properly\n",
      "File not converted to dataframe properly\n",
      "File not converted to dataframe properly\n",
      "File not converted to dataframe properly\n",
      "File not converted to dataframe properly\n",
      "File not converted to dataframe properly\n",
      "File not converted to dataframe properly\n",
      "File not converted to dataframe properly\n",
      "File not converted to dataframe properly\n",
      "File not converted to dataframe properly\n",
      "File not converted to dataframe properly\n",
      "File not converted to dataframe properly\n",
      "File not converted to dataframe properly\n",
      "File not converted to dataframe properly\n",
      "File not converted to dataframe properly\n",
      "Sab changa si\n",
      "File not converted to dataframe properly\n",
      "File not converted to dataframe properly\n",
      "File not converted to dataframe properly\n",
      "File not converted to dataframe properly\n",
      "File not converted to dataframe properly\n",
      "File not converted to dataframe properly\n",
      "Sab changa si\n",
      "File not converted to dataframe properly\n",
      "File not converted to dataframe properly\n",
      "File not converted to dataframe properly\n",
      "File not converted to dataframe properly\n",
      "File not converted to dataframe properly\n",
      "File not converted to dataframe properly\n",
      "File not converted to dataframe properly\n",
      "File not converted to dataframe properly\n",
      "File not converted to dataframe properly\n",
      "File not converted to dataframe properly\n",
      "File not converted to dataframe properly\n",
      "File not converted to dataframe properly\n",
      "File not converted to dataframe properly\n",
      "File not converted to dataframe properly\n",
      "File not converted to dataframe properly\n",
      "File not converted to dataframe properly\n",
      "File not converted to dataframe properly\n",
      "File not converted to dataframe properly\n",
      "File not converted to dataframe properly\n",
      "File not converted to dataframe properly\n",
      "File not converted to dataframe properly\n",
      "File not converted to dataframe properly\n",
      "File not converted to dataframe properly\n",
      "File not converted to dataframe properly\n",
      "File not converted to dataframe properly\n",
      "File not converted to dataframe properly\n",
      "File not converted to dataframe properly\n",
      "File not converted to dataframe properly\n",
      "File not converted to dataframe properly\n",
      "File not converted to dataframe properly\n",
      "Sab changa si\n",
      "File not converted to dataframe properly\n",
      "File not converted to dataframe properly\n",
      "File not converted to dataframe properly\n",
      "File not converted to dataframe properly\n",
      "File not converted to dataframe properly\n",
      "File not converted to dataframe properly\n",
      "File not converted to dataframe properly\n",
      "File not converted to dataframe properly\n",
      "Sab changa si\n",
      "File not converted to dataframe properly\n",
      "File not converted to dataframe properly\n",
      "File not converted to dataframe properly\n",
      "File not converted to dataframe properly\n",
      "File not converted to dataframe properly\n",
      "File not converted to dataframe properly\n",
      "File not converted to dataframe properly\n",
      "File not converted to dataframe properly\n",
      "File not converted to dataframe properly\n",
      "File not converted to dataframe properly\n",
      "File not converted to dataframe properly\n",
      "File not converted to dataframe properly\n",
      "File not converted to dataframe properly\n",
      "File not converted to dataframe properly\n",
      "File not converted to dataframe properly\n",
      "File not converted to dataframe properly\n",
      "File not converted to dataframe properly\n",
      "File not converted to dataframe properly\n",
      "File not converted to dataframe properly\n",
      "File not converted to dataframe properly\n",
      "File not converted to dataframe properly\n",
      "File not converted to dataframe properly\n",
      "File not converted to dataframe properly\n",
      "File not converted to dataframe properly\n",
      "File not converted to dataframe properly\n",
      "File not converted to dataframe properly\n",
      "File not converted to dataframe properly\n",
      "File not converted to dataframe properly\n",
      "Sab changa si\n",
      "File not converted to dataframe properly\n",
      "File not converted to dataframe properly\n",
      "File not converted to dataframe properly\n",
      "File not converted to dataframe properly\n",
      "File not converted to dataframe properly\n",
      "File not converted to dataframe properly\n",
      "File not converted to dataframe properly\n",
      "File not converted to dataframe properly\n",
      "File not converted to dataframe properly\n",
      "File not converted to dataframe properly\n",
      "File not converted to dataframe properly\n",
      "File not converted to dataframe properly\n",
      "Sab changa si\n",
      "File not converted to dataframe properly\n",
      "File not converted to dataframe properly\n",
      "File not converted to dataframe properly\n",
      "File not converted to dataframe properly\n",
      "File not converted to dataframe properly\n",
      "File not converted to dataframe properly\n",
      "File not converted to dataframe properly\n",
      "File not converted to dataframe properly\n",
      "File not converted to dataframe properly\n",
      "Sab changa si\n",
      "File not converted to dataframe properly\n",
      "File not converted to dataframe properly\n",
      "File not converted to dataframe properly\n",
      "File not converted to dataframe properly\n",
      "File not converted to dataframe properly\n",
      "File not converted to dataframe properly\n",
      "File not converted to dataframe properly\n",
      "File not converted to dataframe properly\n",
      "File not converted to dataframe properly\n",
      "File not converted to dataframe properly\n",
      "File not converted to dataframe properly\n",
      "File not converted to dataframe properly\n",
      "File not converted to dataframe properly\n",
      "File not converted to dataframe properly\n",
      "File not converted to dataframe properly\n",
      "File not converted to dataframe properly\n",
      "File not converted to dataframe properly\n",
      "File not converted to dataframe properly\n",
      "File not converted to dataframe properly\n",
      "File not converted to dataframe properly\n",
      "File not converted to dataframe properly\n",
      "File not converted to dataframe properly\n",
      "File not converted to dataframe properly\n",
      "File not converted to dataframe properly\n",
      "File not converted to dataframe properly\n",
      "File not converted to dataframe properly\n",
      "File not converted to dataframe properly\n",
      "File not converted to dataframe properly\n",
      "File not converted to dataframe properly\n",
      "Sab changa si\n",
      "File not converted to dataframe properly\n",
      "File not converted to dataframe properly\n",
      "File not converted to dataframe properly\n",
      "File not converted to dataframe properly\n",
      "File not converted to dataframe properly\n",
      "File not converted to dataframe properly\n",
      "Sab changa si\n",
      "File not converted to dataframe properly\n",
      "File not converted to dataframe properly\n",
      "File not converted to dataframe properly\n",
      "File not converted to dataframe properly\n",
      "File not converted to dataframe properly\n",
      "File not converted to dataframe properly\n",
      "File not converted to dataframe properly\n",
      "File not converted to dataframe properly\n",
      "File not converted to dataframe properly\n",
      "File not converted to dataframe properly\n",
      "File not converted to dataframe properly\n",
      "File not converted to dataframe properly\n",
      "File not converted to dataframe properly\n",
      "File not converted to dataframe properly\n",
      "File not converted to dataframe properly\n",
      "File not converted to dataframe properly\n",
      "File not converted to dataframe properly\n",
      "File not converted to dataframe properly\n",
      "File not converted to dataframe properly\n",
      "File not converted to dataframe properly\n",
      "File not converted to dataframe properly\n",
      "File not converted to dataframe properly\n",
      "File not converted to dataframe properly\n",
      "File not converted to dataframe properly\n",
      "File not converted to dataframe properly\n",
      "File not converted to dataframe properly\n",
      "File not converted to dataframe properly\n",
      "File not converted to dataframe properly\n",
      "File not converted to dataframe properly\n",
      "File not converted to dataframe properly\n",
      "Sab changa si\n",
      "File not converted to dataframe properly\n",
      "File not converted to dataframe properly\n",
      "Sab changa si\n",
      "File not converted to dataframe properly\n",
      "File not converted to dataframe properly\n",
      "File not converted to dataframe properly\n",
      "File not converted to dataframe properly\n",
      "File not converted to dataframe properly\n",
      "File not converted to dataframe properly\n",
      "File not converted to dataframe properly\n",
      "File not converted to dataframe properly\n",
      "File not converted to dataframe properly\n",
      "File not converted to dataframe properly\n",
      "File not converted to dataframe properly\n",
      "File not converted to dataframe properly\n",
      "File not converted to dataframe properly\n",
      "File not converted to dataframe properly\n",
      "File not converted to dataframe properly\n",
      "File not converted to dataframe properly\n",
      "File not converted to dataframe properly\n",
      "File not converted to dataframe properly\n",
      "File not converted to dataframe properly\n",
      "File not converted to dataframe properly\n",
      "File not converted to dataframe properly\n",
      "File not converted to dataframe properly\n",
      "File not converted to dataframe properly\n",
      "File not converted to dataframe properly\n",
      "File not converted to dataframe properly\n",
      "File not converted to dataframe properly\n",
      "File not converted to dataframe properly\n",
      "File not converted to dataframe properly\n",
      "Sab changa si\n",
      "File not converted to dataframe properly\n",
      "File not converted to dataframe properly\n",
      "File not converted to dataframe properly\n",
      "File not converted to dataframe properly\n",
      "File not converted to dataframe properly\n",
      "File not converted to dataframe properly\n",
      "File not converted to dataframe properly\n",
      "File not converted to dataframe properly\n",
      "File not converted to dataframe properly\n",
      "File not converted to dataframe properly\n",
      "File not converted to dataframe properly\n",
      "File not converted to dataframe properly\n",
      "Sab changa si\n",
      "File not converted to dataframe properly\n",
      "File not converted to dataframe properly\n",
      "File not converted to dataframe properly\n",
      "File not converted to dataframe properly\n",
      "File not converted to dataframe properly\n",
      "File not converted to dataframe properly\n",
      "File not converted to dataframe properly\n",
      "File not converted to dataframe properly\n",
      "File not converted to dataframe properly\n",
      "File not converted to dataframe properly\n",
      "File not converted to dataframe properly\n",
      "File not converted to dataframe properly\n",
      "File not converted to dataframe properly\n",
      "File not converted to dataframe properly\n",
      "File not converted to dataframe properly\n",
      "File not converted to dataframe properly\n",
      "File not converted to dataframe properly\n",
      "File not converted to dataframe properly\n",
      "File not converted to dataframe properly\n",
      "Sab changa si\n",
      "File not converted to dataframe properly\n",
      "File not converted to dataframe properly\n",
      "File not converted to dataframe properly\n",
      "File not converted to dataframe properly\n",
      "File not converted to dataframe properly\n",
      "File not converted to dataframe properly\n",
      "File not converted to dataframe properly\n",
      "File not converted to dataframe properly\n",
      "File not converted to dataframe properly\n",
      "File not converted to dataframe properly\n",
      "File not converted to dataframe properly\n",
      "File not converted to dataframe properly\n",
      "File not converted to dataframe properly\n",
      "File not converted to dataframe properly\n",
      "Sab changa si\n",
      "File not converted to dataframe properly\n",
      "File not converted to dataframe properly\n",
      "File not converted to dataframe properly\n",
      "File not converted to dataframe properly\n",
      "File not converted to dataframe properly\n",
      "File not converted to dataframe properly\n",
      "File not converted to dataframe properly\n",
      "File not converted to dataframe properly\n",
      "File not converted to dataframe properly\n",
      "File not converted to dataframe properly\n"
     ]
    }
   ],
   "source": [
    "for i in df.columns:\n",
    "    for j in df_new_1.columns:\n",
    "        if i != j:\n",
    "            print('File not converted to dataframe properly')\n",
    "        else:\n",
    "            print('Sab changa si')"
   ]
  },
  {
   "cell_type": "code",
   "execution_count": 96,
   "metadata": {
    "collapsed": false
   },
   "outputs": [
    {
     "data": {
      "text/plain": [
       "7637"
      ]
     },
     "execution_count": 96,
     "metadata": {},
     "output_type": "execute_result"
    }
   ],
   "source": [
    "df_new_1['name'].count()"
   ]
  },
  {
   "cell_type": "code",
   "execution_count": 99,
   "metadata": {
    "collapsed": false
   },
   "outputs": [],
   "source": [
    "a = df_new_1.describe()"
   ]
  },
  {
   "cell_type": "code",
   "execution_count": 100,
   "metadata": {
    "collapsed": false
   },
   "outputs": [],
   "source": [
    "b = df.describe()"
   ]
  },
  {
   "cell_type": "code",
   "execution_count": 114,
   "metadata": {
    "collapsed": false
   },
   "outputs": [],
   "source": [
    "c = df_new_1.nunique()"
   ]
  },
  {
   "cell_type": "code",
   "execution_count": 115,
   "metadata": {
    "collapsed": false
   },
   "outputs": [],
   "source": [
    "d = df.nunique()"
   ]
  },
  {
   "cell_type": "code",
   "execution_count": 112,
   "metadata": {
    "collapsed": false
   },
   "outputs": [
    {
     "ename": "TypeError",
     "evalue": "scatter() takes at least 3 arguments (1 given)",
     "output_type": "error",
     "traceback": [
      "\u001b[1;31m---------------------------------------------------------------------------\u001b[0m",
      "\u001b[1;31mTypeError\u001b[0m                                 Traceback (most recent call last)",
      "\u001b[1;32m<ipython-input-112-c4b381c47468>\u001b[0m in \u001b[0;36m<module>\u001b[1;34m()\u001b[0m\n\u001b[1;32m----> 1\u001b[1;33m \u001b[0mdf\u001b[0m\u001b[1;33m.\u001b[0m\u001b[0mplot\u001b[0m\u001b[1;33m.\u001b[0m\u001b[0mscatter\u001b[0m\u001b[1;33m(\u001b[0m\u001b[1;33m)\u001b[0m\u001b[1;33m\u001b[0m\u001b[0m\n\u001b[0m",
      "\u001b[1;31mTypeError\u001b[0m: scatter() takes at least 3 arguments (1 given)"
     ]
    }
   ],
   "source": [
    "df.plot.scatter()"
   ]
  },
  {
   "cell_type": "code",
   "execution_count": 111,
   "metadata": {
    "collapsed": false
   },
   "outputs": [
    {
     "data": {
      "text/plain": [
       "<matplotlib.axes._subplots.AxesSubplot at 0xdb679b0>"
      ]
     },
     "execution_count": 111,
     "metadata": {},
     "output_type": "execute_result"
    },
    {
     "data": {
      "image/png": "[encoded data removed]",
      "text/plain": [
       "<matplotlib.figure.Figure at 0xee6ee48>"
      ]
     },
     "metadata": {},
     "output_type": "display_data"
    }
   ],
   "source": [
    "df_new_1.plot.hist()"
   ]
  },
  {
   "cell_type": "code",
   "execution_count": 123,
   "metadata": {
    "collapsed": false
   },
   "outputs": [
    {
     "data": {
      "text/plain": [
       "<matplotlib.axes._subplots.AxesSubplot at 0x10073630>"
      ]
     },
     "execution_count": 123,
     "metadata": {},
     "output_type": "execute_result"
    },
    {
     "data": {
      "image/png": "[encoded data removed]",
      "text/plain": [
       "<matplotlib.figure.Figure at 0xc1d1a58>"
      ]
     },
     "metadata": {},
     "output_type": "display_data"
    }
   ],
   "source": [
    "c.plot.hist()"
   ]
  },
  {
   "cell_type": "code",
   "execution_count": 124,
   "metadata": {
    "collapsed": false
   },
   "outputs": [
    {
     "data": {
      "text/plain": [
       "<matplotlib.axes._subplots.AxesSubplot at 0xe31cc50>"
      ]
     },
     "execution_count": 124,
     "metadata": {},
     "output_type": "execute_result"
    },
    {
     "data": {
      "image/png": "[encoded data removed]",
      "text/plain": [
       "<matplotlib.figure.Figure at 0xf459b00>"
      ]
     },
     "metadata": {},
     "output_type": "display_data"
    }
   ],
   "source": [
    "d.plot.hist()"
   ]
  },
  {
   "cell_type": "code",
   "execution_count": null,
   "metadata": {
    "collapsed": true
   },
   "outputs": [],
   "source": []
  }
 ],
 "metadata": {
  "kernelspec": {
   "display_name": "Python 2",
   "language": "python",
   "name": "python2"
  },
  "language_info": {
   "codemirror_mode": {
    "name": "ipython",
    "version": 2
   },
   "file_extension": ".py",
   "mimetype": "text/x-python",
   "name": "python",
   "nbconvert_exporter": "python",
   "pygments_lexer": "ipython2",
   "version": "2.7.13"
  }
 },
 "nbformat": 4,
 "nbformat_minor": 2
}
