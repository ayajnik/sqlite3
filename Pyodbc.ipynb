{
 "cells": [
  {
   "cell_type": "code",
   "execution_count": 1,
   "metadata": {},
   "outputs": [],
   "source": [
    "import pyodbc"
   ]
  },
  {
   "cell_type": "code",
   "execution_count": 2,
   "metadata": {},
   "outputs": [
    {
     "name": "stdout",
     "output_type": "stream",
     "text": [
      "SQL Server\n",
      "ODBC Driver 13 for SQL Server\n",
      "Amazon Redshift (x64)\n",
      "ODBC Driver 17 for SQL Server\n",
      "SQL Server Native Client 11.0\n",
      "PostgreSQL ANSI(x64)\n",
      "PostgreSQL Unicode(x64)\n",
      "MySQL ODBC 8.0 ANSI Driver\n",
      "MySQL ODBC 8.0 Unicode Driver\n"
     ]
    }
   ],
   "source": [
    "for drivers in pyodbc.drivers():\n",
    "    print(drivers)"
   ]
  },
  {
   "cell_type": "code",
   "execution_count": null,
   "metadata": {},
   "outputs": [],
   "source": [
    "# my price data\n",
    "price_data = [[ 2.00, 3.00, 1.00, 2.40, 100.00, '1/2/2019'],\n",
    "              [ 3.00, 3.00, 5.00, 9.40, 300.00, '2/1/2020'],\n",
    "              [ 4.00, 2.00, 1.00, 2.40, 200.00, '3/1/2021']]\n",
    "\n",
    "# define the server and the database that we want to connect to\n",
    "server = 'DESKTOP-MOA8O6M\\SQLEXPRESS' \n",
    "database = 'stock_database'  \n",
    "\n",
    "# define the connection string from our end and the server that we want to connect to\n",
    "cnxn = pyodbc.connect('DRIVER={ODBC Driver 17 for SQL Server}; \\\n",
    "                       SERVER='+ server +'; \\\n",
    "                       DATABASE='+ database +';\\\n",
    "                       Trusted_Connection=yes;')\n",
    "\n",
    "# create the connection cursor\n",
    "cursor = cnxn.cursor()\n",
    "\n",
    "# loop through to insert each row.\n",
    "for index, row in enumerate(price_data):\n",
    "    \n",
    "    # define an insert query with place holders for the values.\n",
    "    insert_query = '''INSERT INTO td_price_data (close_price, high, low, open_price, volume, day_value) \n",
    "                      VALUES (?, ?, ?, ?, ?, ?);'''\n",
    "    \n",
    "    # define the values\n",
    "    values = (row[0], row[1], row[2], row[3], row[4], row[5])\n",
    "    \n",
    "    # insert the data into the database\n",
    "    cursor.execute(insert_query, values)\n",
    "\n",
    "# commit the inserts\n",
    "cnxn.commit()\n",
    "    \n",
    "# grab all the rows from the table\n",
    "cursor.execute('SELECT * FROM td_price_data')\n",
    "for row in cursor:\n",
    "    print(row)\n",
    "    \n",
    "# close the cursor and connection  \n",
    "cursor.close()\n",
    "cnxn.close()"
   ]
  },
  {
   "cell_type": "code",
   "execution_count": 3,
   "metadata": {},
   "outputs": [
    {
     "ename": "OperationalError",
     "evalue": "('08001', '[08001] [Microsoft][ODBC Driver 17 for SQL Server]Named Pipes Provider: Could not open a connection to SQL Server [2].  (2) (SQLDriverConnect); [08001] [Microsoft][ODBC Driver 17 for SQL Server]Login timeout expired (0); [08001] [Microsoft][ODBC Driver 17 for SQL Server]A network-related or instance-specific error has occurred while establishing a connection to SQL Server. Server is not found or not accessible. Check if instance name is correct and if SQL Server is configured to allow remote connections. For more information see SQL Server Books Online. (2)')",
     "output_type": "error",
     "traceback": [
      "\u001b[1;31m---------------------------------------------------------------------------\u001b[0m",
      "\u001b[1;31mOperationalError\u001b[0m                          Traceback (most recent call last)",
      "\u001b[1;32m<ipython-input-3-eaad067ece33>\u001b[0m in \u001b[0;36m<module>\u001b[1;34m\u001b[0m\n\u001b[0;32m      1\u001b[0m \u001b[1;31m# Specifying the ODBC driver, server name, database, etc. directly\u001b[0m\u001b[1;33m\u001b[0m\u001b[1;33m\u001b[0m\u001b[1;33m\u001b[0m\u001b[0m\n\u001b[1;32m----> 2\u001b[1;33m \u001b[0mcnxn\u001b[0m \u001b[1;33m=\u001b[0m \u001b[0mpyodbc\u001b[0m\u001b[1;33m.\u001b[0m\u001b[0mconnect\u001b[0m\u001b[1;33m(\u001b[0m\u001b[1;34m'DRIVER={ODBC Driver 17 for SQL Server};SERVER=localhost;DATABASE=testdb;UID=me;PWD=pass'\u001b[0m\u001b[1;33m)\u001b[0m\u001b[1;33m\u001b[0m\u001b[1;33m\u001b[0m\u001b[0m\n\u001b[0m",
      "\u001b[1;31mOperationalError\u001b[0m: ('08001', '[08001] [Microsoft][ODBC Driver 17 for SQL Server]Named Pipes Provider: Could not open a connection to SQL Server [2].  (2) (SQLDriverConnect); [08001] [Microsoft][ODBC Driver 17 for SQL Server]Login timeout expired (0); [08001] [Microsoft][ODBC Driver 17 for SQL Server]A network-related or instance-specific error has occurred while establishing a connection to SQL Server. Server is not found or not accessible. Check if instance name is correct and if SQL Server is configured to allow remote connections. For more information see SQL Server Books Online. (2)')"
     ]
    }
   ],
   "source": [
    "# Specifying the ODBC driver, server name, database, etc. directly\n",
    "cnxn = pyodbc.connect('DRIVER={ODBC Driver 17 for SQL Server};SERVER=localhost;DATABASE=testdb;UID=me;PWD=pass')"
   ]
  },
  {
   "cell_type": "code",
   "execution_count": null,
   "metadata": {},
   "outputs": [],
   "source": [
    "## miscellaneous\n",
    "##to find the table in a database\n",
    "##after creating a cursor we can retrieve all the table name from the database\n",
    "\n",
    "for row in cursor.tables():\n",
    "    print (row.table_name)"
   ]
  },
  {
   "cell_type": "code",
   "execution_count": null,
   "metadata": {},
   "outputs": [],
   "source": [
    "##pandas and sqlite\n",
    "import pandas as pd\n",
    "import sqlite3\n",
    "\n",
    "con = sqlite3.connect('walletexplorer.db')\n",
    "cur = con.cursor()\n",
    "\n",
    "sql = '''\n",
    "    SELECT * FROM WALLETEXPLORER;    \n",
    "            '''\n",
    "\n",
    "df = pd.read_sql(sql,con)\n"
   ]
  }
 ],
 "metadata": {
  "kernelspec": {
   "display_name": "Python 3",
   "language": "python",
   "name": "python3"
  },
  "language_info": {
   "codemirror_mode": {
    "name": "ipython",
    "version": 3
   },
   "file_extension": ".py",
   "mimetype": "text/x-python",
   "name": "python",
   "nbconvert_exporter": "python",
   "pygments_lexer": "ipython3",
   "version": "3.7.4"
  }
 },
 "nbformat": 4,
 "nbformat_minor": 2
}
